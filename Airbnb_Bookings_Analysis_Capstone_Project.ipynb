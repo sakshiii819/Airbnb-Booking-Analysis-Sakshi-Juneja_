{
  "nbformat": 4,
  "nbformat_minor": 0,
  "metadata": {
    "kernelspec": {
      "display_name": "Python 3",
      "language": "python",
      "name": "python3"
    },
    "language_info": {
      "codemirror_mode": {
        "name": "ipython",
        "version": 3
      },
      "file_extension": ".py",
      "mimetype": "text/x-python",
      "name": "python",
      "nbconvert_exporter": "python",
      "pygments_lexer": "ipython3",
      "version": "3.6.6"
    },
    "colab": {
      "name": "Airbnb Bookings Analysis - Capstone Project.ipynb",
      "provenance": [],
      "collapsed_sections": [],
      "include_colab_link": true
    }
  },
  "cells": [
    {
      "cell_type": "markdown",
      "metadata": {
        "id": "view-in-github",
        "colab_type": "text"
      },
      "source": [
        "<a href=\"https://colab.research.google.com/github/sakshiii819/Airbnb-Booking-Analysis-Sakshi-Juneja_/blob/main/Airbnb_Bookings_Analysis_Capstone_Project.ipynb\" target=\"_parent\"><img src=\"https://colab.research.google.com/assets/colab-badge.svg\" alt=\"Open In Colab\"/></a>"
      ]
    },
    {
      "cell_type": "markdown",
      "metadata": {
        "id": "Y06xIdG26kRF"
      },
      "source": [
        "## <b> Since 2008, guests and hosts have used Airbnb to expand on traveling possibilities and present a more unique, personalized way of experiencing the world. Today, Airbnb became one of a kind service that is used and recognized by the whole world. Data analysis on millions of listings provided through Airbnb is a crucial factor for the company. These millions of listings generate a lot of data - data that can be analyzed and used for security, business decisions, understanding of customers' and providers' (hosts) behavior and performance on the platform, guiding marketing initiatives, implementation of innovative additional services and much more. </b>\n",
        "\n",
        "## <b>This dataset has around 49,000 observations in it with 16 columns and it is a mix between categorical and numeric values. </b>\n",
        "\n",
        "## <b> Explore and analyze the data to discover key understandings (not limited to these) such as : \n",
        "* What can we learn about different hosts and areas?\n",
        "* What can we learn from predictions? (ex: locations, prices, reviews, etc)\n",
        "* Which hosts are the busiest and why?\n",
        "* Is there any noticeable difference of traffic among different areas and what could be the reason for it? </b>"
      ]
    },
    {
      "cell_type": "code",
      "metadata": {
        "colab": {
          "base_uri": "https://localhost:8080/"
        },
        "id": "aouWNypyd2jH",
        "outputId": "d41bf494-d467-48c1-b2f7-2ad94af7a236"
      },
      "source": [
        "from google.colab import drive\n",
        "drive.mount('/content/drive')"
      ],
      "execution_count": null,
      "outputs": [
        {
          "output_type": "stream",
          "text": [
            "Mounted at /content/drive\n"
          ],
          "name": "stdout"
        }
      ]
    },
    {
      "cell_type": "code",
      "metadata": {
        "id": "dByMsuzT8Tnw"
      },
      "source": [
        "import pandas as pd\n",
        "import numpy as np\n",
        "import matplotlib.pyplot as plt"
      ],
      "execution_count": null,
      "outputs": []
    },
    {
      "cell_type": "code",
      "metadata": {
        "id": "AtsTvgqUeNG3"
      },
      "source": [
        "file_path = '/content/drive/MyDrive/AlmaB/Colab Notebooks/airbnb/'\n"
      ],
      "execution_count": null,
      "outputs": []
    },
    {
      "cell_type": "code",
      "metadata": {
        "id": "UpGXzKtbfJ-X"
      },
      "source": [
        "df = pd.read_csv(file_path + 'Airbnb NYC 2019.csv')"
      ],
      "execution_count": null,
      "outputs": []
    },
    {
      "cell_type": "code",
      "metadata": {
        "colab": {
          "base_uri": "https://localhost:8080/",
          "height": 253
        },
        "id": "Rq075_ZWfdz8",
        "outputId": "fca600c3-917f-4e96-cb66-8d5f0316d90f"
      },
      "source": [
        "df.head(2)"
      ],
      "execution_count": null,
      "outputs": [
        {
          "output_type": "execute_result",
          "data": {
            "text/html": [
              "<div>\n",
              "<style scoped>\n",
              "    .dataframe tbody tr th:only-of-type {\n",
              "        vertical-align: middle;\n",
              "    }\n",
              "\n",
              "    .dataframe tbody tr th {\n",
              "        vertical-align: top;\n",
              "    }\n",
              "\n",
              "    .dataframe thead th {\n",
              "        text-align: right;\n",
              "    }\n",
              "</style>\n",
              "<table border=\"1\" class=\"dataframe\">\n",
              "  <thead>\n",
              "    <tr style=\"text-align: right;\">\n",
              "      <th></th>\n",
              "      <th>id</th>\n",
              "      <th>name</th>\n",
              "      <th>host_id</th>\n",
              "      <th>host_name</th>\n",
              "      <th>neighbourhood_group</th>\n",
              "      <th>neighbourhood</th>\n",
              "      <th>latitude</th>\n",
              "      <th>longitude</th>\n",
              "      <th>room_type</th>\n",
              "      <th>price</th>\n",
              "      <th>minimum_nights</th>\n",
              "      <th>number_of_reviews</th>\n",
              "      <th>last_review</th>\n",
              "      <th>reviews_per_month</th>\n",
              "      <th>calculated_host_listings_count</th>\n",
              "      <th>availability_365</th>\n",
              "    </tr>\n",
              "  </thead>\n",
              "  <tbody>\n",
              "    <tr>\n",
              "      <th>0</th>\n",
              "      <td>2539</td>\n",
              "      <td>Clean &amp; quiet apt home by the park</td>\n",
              "      <td>2787</td>\n",
              "      <td>John</td>\n",
              "      <td>Brooklyn</td>\n",
              "      <td>Kensington</td>\n",
              "      <td>40.64749</td>\n",
              "      <td>-73.97237</td>\n",
              "      <td>Private room</td>\n",
              "      <td>149</td>\n",
              "      <td>1</td>\n",
              "      <td>9</td>\n",
              "      <td>2018-10-19</td>\n",
              "      <td>0.21</td>\n",
              "      <td>6</td>\n",
              "      <td>365</td>\n",
              "    </tr>\n",
              "    <tr>\n",
              "      <th>1</th>\n",
              "      <td>2595</td>\n",
              "      <td>Skylit Midtown Castle</td>\n",
              "      <td>2845</td>\n",
              "      <td>Jennifer</td>\n",
              "      <td>Manhattan</td>\n",
              "      <td>Midtown</td>\n",
              "      <td>40.75362</td>\n",
              "      <td>-73.98377</td>\n",
              "      <td>Entire home/apt</td>\n",
              "      <td>225</td>\n",
              "      <td>1</td>\n",
              "      <td>45</td>\n",
              "      <td>2019-05-21</td>\n",
              "      <td>0.38</td>\n",
              "      <td>2</td>\n",
              "      <td>355</td>\n",
              "    </tr>\n",
              "  </tbody>\n",
              "</table>\n",
              "</div>"
            ],
            "text/plain": [
              "     id  ... availability_365\n",
              "0  2539  ...              365\n",
              "1  2595  ...              355\n",
              "\n",
              "[2 rows x 16 columns]"
            ]
          },
          "metadata": {
            "tags": []
          },
          "execution_count": 5
        }
      ]
    },
    {
      "cell_type": "code",
      "metadata": {
        "colab": {
          "base_uri": "https://localhost:8080/"
        },
        "id": "WcqyXCiZj_XU",
        "outputId": "95f80aab-4812-4c4b-b929-be38717418fa"
      },
      "source": [
        "len(df)"
      ],
      "execution_count": null,
      "outputs": [
        {
          "output_type": "execute_result",
          "data": {
            "text/plain": [
              "48895"
            ]
          },
          "metadata": {
            "tags": []
          },
          "execution_count": 7
        }
      ]
    },
    {
      "cell_type": "code",
      "metadata": {
        "colab": {
          "base_uri": "https://localhost:8080/"
        },
        "id": "tQ5JRxjJkTsX",
        "outputId": "c9cd602f-a36c-4137-be11-0578de62faa4"
      },
      "source": [
        "df.dtypes"
      ],
      "execution_count": null,
      "outputs": [
        {
          "output_type": "execute_result",
          "data": {
            "text/plain": [
              "id                                  int64\n",
              "name                               object\n",
              "host_id                             int64\n",
              "host_name                          object\n",
              "neighbourhood_group                object\n",
              "neighbourhood                      object\n",
              "latitude                          float64\n",
              "longitude                         float64\n",
              "room_type                          object\n",
              "price                               int64\n",
              "minimum_nights                      int64\n",
              "number_of_reviews                   int64\n",
              "last_review                        object\n",
              "reviews_per_month                 float64\n",
              "calculated_host_listings_count      int64\n",
              "availability_365                    int64\n",
              "dtype: object"
            ]
          },
          "metadata": {
            "tags": []
          },
          "execution_count": 8
        }
      ]
    },
    {
      "cell_type": "code",
      "metadata": {
        "colab": {
          "base_uri": "https://localhost:8080/"
        },
        "id": "ixQnOUvLkflY",
        "outputId": "4bf40877-70a9-47e1-b6c6-b2fb81e8ac45"
      },
      "source": [
        "df.isnull().sum()"
      ],
      "execution_count": null,
      "outputs": [
        {
          "output_type": "execute_result",
          "data": {
            "text/plain": [
              "id                                    0\n",
              "name                                 16\n",
              "host_id                               0\n",
              "host_name                            21\n",
              "neighbourhood_group                   0\n",
              "neighbourhood                         0\n",
              "latitude                              0\n",
              "longitude                             0\n",
              "room_type                             0\n",
              "price                                 0\n",
              "minimum_nights                        0\n",
              "number_of_reviews                     0\n",
              "last_review                       10052\n",
              "reviews_per_month                 10052\n",
              "calculated_host_listings_count        0\n",
              "availability_365                      0\n",
              "dtype: int64"
            ]
          },
          "metadata": {
            "tags": []
          },
          "execution_count": 6
        }
      ]
    },
    {
      "cell_type": "code",
      "metadata": {
        "id": "PsW5Hm7zlR7a"
      },
      "source": [
        "#dropping host column to maintain privacy\n",
        "#df.drop(['host_name'], axis=1, inplace=True)"
      ],
      "execution_count": null,
      "outputs": []
    },
    {
      "cell_type": "code",
      "metadata": {
        "colab": {
          "base_uri": "https://localhost:8080/",
          "height": 320
        },
        "id": "TddmByLto2r0",
        "outputId": "978b398e-2ff8-4f21-89ac-42e379308a7e"
      },
      "source": [
        "df.describe()"
      ],
      "execution_count": null,
      "outputs": [
        {
          "output_type": "execute_result",
          "data": {
            "text/html": [
              "<div>\n",
              "<style scoped>\n",
              "    .dataframe tbody tr th:only-of-type {\n",
              "        vertical-align: middle;\n",
              "    }\n",
              "\n",
              "    .dataframe tbody tr th {\n",
              "        vertical-align: top;\n",
              "    }\n",
              "\n",
              "    .dataframe thead th {\n",
              "        text-align: right;\n",
              "    }\n",
              "</style>\n",
              "<table border=\"1\" class=\"dataframe\">\n",
              "  <thead>\n",
              "    <tr style=\"text-align: right;\">\n",
              "      <th></th>\n",
              "      <th>id</th>\n",
              "      <th>host_id</th>\n",
              "      <th>latitude</th>\n",
              "      <th>longitude</th>\n",
              "      <th>price</th>\n",
              "      <th>minimum_nights</th>\n",
              "      <th>number_of_reviews</th>\n",
              "      <th>reviews_per_month</th>\n",
              "      <th>calculated_host_listings_count</th>\n",
              "      <th>availability_365</th>\n",
              "    </tr>\n",
              "  </thead>\n",
              "  <tbody>\n",
              "    <tr>\n",
              "      <th>count</th>\n",
              "      <td>4.889500e+04</td>\n",
              "      <td>4.889500e+04</td>\n",
              "      <td>48895.000000</td>\n",
              "      <td>48895.000000</td>\n",
              "      <td>48895.000000</td>\n",
              "      <td>48895.000000</td>\n",
              "      <td>48895.000000</td>\n",
              "      <td>38843.000000</td>\n",
              "      <td>48895.000000</td>\n",
              "      <td>48895.000000</td>\n",
              "    </tr>\n",
              "    <tr>\n",
              "      <th>mean</th>\n",
              "      <td>1.901714e+07</td>\n",
              "      <td>6.762001e+07</td>\n",
              "      <td>40.728949</td>\n",
              "      <td>-73.952170</td>\n",
              "      <td>152.720687</td>\n",
              "      <td>7.029962</td>\n",
              "      <td>23.274466</td>\n",
              "      <td>1.373221</td>\n",
              "      <td>7.143982</td>\n",
              "      <td>112.781327</td>\n",
              "    </tr>\n",
              "    <tr>\n",
              "      <th>std</th>\n",
              "      <td>1.098311e+07</td>\n",
              "      <td>7.861097e+07</td>\n",
              "      <td>0.054530</td>\n",
              "      <td>0.046157</td>\n",
              "      <td>240.154170</td>\n",
              "      <td>20.510550</td>\n",
              "      <td>44.550582</td>\n",
              "      <td>1.680442</td>\n",
              "      <td>32.952519</td>\n",
              "      <td>131.622289</td>\n",
              "    </tr>\n",
              "    <tr>\n",
              "      <th>min</th>\n",
              "      <td>2.539000e+03</td>\n",
              "      <td>2.438000e+03</td>\n",
              "      <td>40.499790</td>\n",
              "      <td>-74.244420</td>\n",
              "      <td>0.000000</td>\n",
              "      <td>1.000000</td>\n",
              "      <td>0.000000</td>\n",
              "      <td>0.010000</td>\n",
              "      <td>1.000000</td>\n",
              "      <td>0.000000</td>\n",
              "    </tr>\n",
              "    <tr>\n",
              "      <th>25%</th>\n",
              "      <td>9.471945e+06</td>\n",
              "      <td>7.822033e+06</td>\n",
              "      <td>40.690100</td>\n",
              "      <td>-73.983070</td>\n",
              "      <td>69.000000</td>\n",
              "      <td>1.000000</td>\n",
              "      <td>1.000000</td>\n",
              "      <td>0.190000</td>\n",
              "      <td>1.000000</td>\n",
              "      <td>0.000000</td>\n",
              "    </tr>\n",
              "    <tr>\n",
              "      <th>50%</th>\n",
              "      <td>1.967728e+07</td>\n",
              "      <td>3.079382e+07</td>\n",
              "      <td>40.723070</td>\n",
              "      <td>-73.955680</td>\n",
              "      <td>106.000000</td>\n",
              "      <td>3.000000</td>\n",
              "      <td>5.000000</td>\n",
              "      <td>0.720000</td>\n",
              "      <td>1.000000</td>\n",
              "      <td>45.000000</td>\n",
              "    </tr>\n",
              "    <tr>\n",
              "      <th>75%</th>\n",
              "      <td>2.915218e+07</td>\n",
              "      <td>1.074344e+08</td>\n",
              "      <td>40.763115</td>\n",
              "      <td>-73.936275</td>\n",
              "      <td>175.000000</td>\n",
              "      <td>5.000000</td>\n",
              "      <td>24.000000</td>\n",
              "      <td>2.020000</td>\n",
              "      <td>2.000000</td>\n",
              "      <td>227.000000</td>\n",
              "    </tr>\n",
              "    <tr>\n",
              "      <th>max</th>\n",
              "      <td>3.648724e+07</td>\n",
              "      <td>2.743213e+08</td>\n",
              "      <td>40.913060</td>\n",
              "      <td>-73.712990</td>\n",
              "      <td>10000.000000</td>\n",
              "      <td>1250.000000</td>\n",
              "      <td>629.000000</td>\n",
              "      <td>58.500000</td>\n",
              "      <td>327.000000</td>\n",
              "      <td>365.000000</td>\n",
              "    </tr>\n",
              "  </tbody>\n",
              "</table>\n",
              "</div>"
            ],
            "text/plain": [
              "                 id  ...  availability_365\n",
              "count  4.889500e+04  ...      48895.000000\n",
              "mean   1.901714e+07  ...        112.781327\n",
              "std    1.098311e+07  ...        131.622289\n",
              "min    2.539000e+03  ...          0.000000\n",
              "25%    9.471945e+06  ...          0.000000\n",
              "50%    1.967728e+07  ...         45.000000\n",
              "75%    2.915218e+07  ...        227.000000\n",
              "max    3.648724e+07  ...        365.000000\n",
              "\n",
              "[8 rows x 10 columns]"
            ]
          },
          "metadata": {
            "tags": []
          },
          "execution_count": 8
        }
      ]
    },
    {
      "cell_type": "code",
      "metadata": {
        "colab": {
          "base_uri": "https://localhost:8080/",
          "height": 417
        },
        "id": "xZQl1VoNmxgW",
        "outputId": "4f6aab1a-4cee-402f-d908-7ff42729fb3c"
      },
      "source": [
        "df.head()"
      ],
      "execution_count": null,
      "outputs": [
        {
          "output_type": "execute_result",
          "data": {
            "text/html": [
              "<div>\n",
              "<style scoped>\n",
              "    .dataframe tbody tr th:only-of-type {\n",
              "        vertical-align: middle;\n",
              "    }\n",
              "\n",
              "    .dataframe tbody tr th {\n",
              "        vertical-align: top;\n",
              "    }\n",
              "\n",
              "    .dataframe thead th {\n",
              "        text-align: right;\n",
              "    }\n",
              "</style>\n",
              "<table border=\"1\" class=\"dataframe\">\n",
              "  <thead>\n",
              "    <tr style=\"text-align: right;\">\n",
              "      <th></th>\n",
              "      <th>id</th>\n",
              "      <th>name</th>\n",
              "      <th>host_id</th>\n",
              "      <th>host_name</th>\n",
              "      <th>neighbourhood_group</th>\n",
              "      <th>neighbourhood</th>\n",
              "      <th>latitude</th>\n",
              "      <th>longitude</th>\n",
              "      <th>room_type</th>\n",
              "      <th>price</th>\n",
              "      <th>minimum_nights</th>\n",
              "      <th>number_of_reviews</th>\n",
              "      <th>last_review</th>\n",
              "      <th>reviews_per_month</th>\n",
              "      <th>calculated_host_listings_count</th>\n",
              "      <th>availability_365</th>\n",
              "    </tr>\n",
              "  </thead>\n",
              "  <tbody>\n",
              "    <tr>\n",
              "      <th>0</th>\n",
              "      <td>2539</td>\n",
              "      <td>Clean &amp; quiet apt home by the park</td>\n",
              "      <td>2787</td>\n",
              "      <td>John</td>\n",
              "      <td>Brooklyn</td>\n",
              "      <td>Kensington</td>\n",
              "      <td>40.64749</td>\n",
              "      <td>-73.97237</td>\n",
              "      <td>Private room</td>\n",
              "      <td>149</td>\n",
              "      <td>1</td>\n",
              "      <td>9</td>\n",
              "      <td>2018-10-19</td>\n",
              "      <td>0.21</td>\n",
              "      <td>6</td>\n",
              "      <td>365</td>\n",
              "    </tr>\n",
              "    <tr>\n",
              "      <th>1</th>\n",
              "      <td>2595</td>\n",
              "      <td>Skylit Midtown Castle</td>\n",
              "      <td>2845</td>\n",
              "      <td>Jennifer</td>\n",
              "      <td>Manhattan</td>\n",
              "      <td>Midtown</td>\n",
              "      <td>40.75362</td>\n",
              "      <td>-73.98377</td>\n",
              "      <td>Entire home/apt</td>\n",
              "      <td>225</td>\n",
              "      <td>1</td>\n",
              "      <td>45</td>\n",
              "      <td>2019-05-21</td>\n",
              "      <td>0.38</td>\n",
              "      <td>2</td>\n",
              "      <td>355</td>\n",
              "    </tr>\n",
              "    <tr>\n",
              "      <th>2</th>\n",
              "      <td>3647</td>\n",
              "      <td>THE VILLAGE OF HARLEM....NEW YORK !</td>\n",
              "      <td>4632</td>\n",
              "      <td>Elisabeth</td>\n",
              "      <td>Manhattan</td>\n",
              "      <td>Harlem</td>\n",
              "      <td>40.80902</td>\n",
              "      <td>-73.94190</td>\n",
              "      <td>Private room</td>\n",
              "      <td>150</td>\n",
              "      <td>3</td>\n",
              "      <td>0</td>\n",
              "      <td>NaN</td>\n",
              "      <td>NaN</td>\n",
              "      <td>1</td>\n",
              "      <td>365</td>\n",
              "    </tr>\n",
              "    <tr>\n",
              "      <th>3</th>\n",
              "      <td>3831</td>\n",
              "      <td>Cozy Entire Floor of Brownstone</td>\n",
              "      <td>4869</td>\n",
              "      <td>LisaRoxanne</td>\n",
              "      <td>Brooklyn</td>\n",
              "      <td>Clinton Hill</td>\n",
              "      <td>40.68514</td>\n",
              "      <td>-73.95976</td>\n",
              "      <td>Entire home/apt</td>\n",
              "      <td>89</td>\n",
              "      <td>1</td>\n",
              "      <td>270</td>\n",
              "      <td>2019-07-05</td>\n",
              "      <td>4.64</td>\n",
              "      <td>1</td>\n",
              "      <td>194</td>\n",
              "    </tr>\n",
              "    <tr>\n",
              "      <th>4</th>\n",
              "      <td>5022</td>\n",
              "      <td>Entire Apt: Spacious Studio/Loft by central park</td>\n",
              "      <td>7192</td>\n",
              "      <td>Laura</td>\n",
              "      <td>Manhattan</td>\n",
              "      <td>East Harlem</td>\n",
              "      <td>40.79851</td>\n",
              "      <td>-73.94399</td>\n",
              "      <td>Entire home/apt</td>\n",
              "      <td>80</td>\n",
              "      <td>10</td>\n",
              "      <td>9</td>\n",
              "      <td>2018-11-19</td>\n",
              "      <td>0.10</td>\n",
              "      <td>1</td>\n",
              "      <td>0</td>\n",
              "    </tr>\n",
              "  </tbody>\n",
              "</table>\n",
              "</div>"
            ],
            "text/plain": [
              "     id  ... availability_365\n",
              "0  2539  ...              365\n",
              "1  2595  ...              355\n",
              "2  3647  ...              365\n",
              "3  3831  ...              194\n",
              "4  5022  ...                0\n",
              "\n",
              "[5 rows x 16 columns]"
            ]
          },
          "metadata": {
            "tags": []
          },
          "execution_count": 9
        }
      ]
    },
    {
      "cell_type": "code",
      "metadata": {
        "id": "2vVCsTwtm2iV"
      },
      "source": [
        "df.fillna({'reviews_per_month':0}, inplace=True)"
      ],
      "execution_count": null,
      "outputs": []
    },
    {
      "cell_type": "code",
      "metadata": {
        "colab": {
          "base_uri": "https://localhost:8080/"
        },
        "id": "B44hdYyonDwq",
        "outputId": "04998e14-66b3-4e48-f3b9-335f43930b2f"
      },
      "source": [
        "df.reviews_per_month.isnull().sum()"
      ],
      "execution_count": null,
      "outputs": [
        {
          "output_type": "execute_result",
          "data": {
            "text/plain": [
              "0"
            ]
          },
          "metadata": {
            "tags": []
          },
          "execution_count": 12
        }
      ]
    },
    {
      "cell_type": "code",
      "metadata": {
        "colab": {
          "base_uri": "https://localhost:8080/"
        },
        "id": "j-5mUspsnNN4",
        "outputId": "befb63b9-1c6d-4e52-d145-5af810a5b02e"
      },
      "source": [
        "df.isnull().sum()"
      ],
      "execution_count": null,
      "outputs": [
        {
          "output_type": "execute_result",
          "data": {
            "text/plain": [
              "id                                    0\n",
              "name                                 16\n",
              "host_id                               0\n",
              "host_name                            21\n",
              "neighbourhood_group                   0\n",
              "neighbourhood                         0\n",
              "latitude                              0\n",
              "longitude                             0\n",
              "room_type                             0\n",
              "price                                 0\n",
              "minimum_nights                        0\n",
              "number_of_reviews                     0\n",
              "last_review                       10052\n",
              "reviews_per_month                     0\n",
              "calculated_host_listings_count        0\n",
              "availability_365                      0\n",
              "dtype: int64"
            ]
          },
          "metadata": {
            "tags": []
          },
          "execution_count": 13
        }
      ]
    },
    {
      "cell_type": "markdown",
      "metadata": {
        "id": "puf-hrEEptI2"
      },
      "source": [
        "I have to find busiest airbnb--it will be based on number of reviews and number of property listings."
      ]
    },
    {
      "cell_type": "code",
      "metadata": {
        "colab": {
          "base_uri": "https://localhost:8080/"
        },
        "id": "wgUWwNpOq8bo",
        "outputId": "a9b236d4-6eb1-400e-9156-b714e6137493"
      },
      "source": [
        "df.columns"
      ],
      "execution_count": null,
      "outputs": [
        {
          "output_type": "execute_result",
          "data": {
            "text/plain": [
              "Index(['id', 'name', 'host_id', 'host_name', 'neighbourhood_group',\n",
              "       'neighbourhood', 'latitude', 'longitude', 'room_type', 'price',\n",
              "       'minimum_nights', 'number_of_reviews', 'last_review',\n",
              "       'reviews_per_month', 'calculated_host_listings_count',\n",
              "       'availability_365'],\n",
              "      dtype='object')"
            ]
          },
          "metadata": {
            "tags": []
          },
          "execution_count": 14
        }
      ]
    },
    {
      "cell_type": "code",
      "metadata": {
        "colab": {
          "base_uri": "https://localhost:8080/",
          "height": 707
        },
        "id": "ANF7VDkMIIyR",
        "outputId": "d8104061-9593-4250-8729-a35f5f7e6aef"
      },
      "source": [
        "#grouping data using host_id, host_name, number_of reviews to know busiest host:\n",
        "busy_host_df=df.groupby('host_id')['number_of_reviews'].sum().sort_values(ascending=False).reset_index()\n",
        "name_df=df.groupby('host_id')['host_name'].unique().reset_index()\n",
        "\n",
        "# Merging the two dataframes using left join\n",
        "merged_busy_host_df = pd.merge(busy_host_df,name_df, on='host_id', how='inner').iloc[:20].set_index('host_id')\n",
        "merged_busy_host_df"
      ],
      "execution_count": null,
      "outputs": [
        {
          "output_type": "execute_result",
          "data": {
            "text/html": [
              "<div>\n",
              "<style scoped>\n",
              "    .dataframe tbody tr th:only-of-type {\n",
              "        vertical-align: middle;\n",
              "    }\n",
              "\n",
              "    .dataframe tbody tr th {\n",
              "        vertical-align: top;\n",
              "    }\n",
              "\n",
              "    .dataframe thead th {\n",
              "        text-align: right;\n",
              "    }\n",
              "</style>\n",
              "<table border=\"1\" class=\"dataframe\">\n",
              "  <thead>\n",
              "    <tr style=\"text-align: right;\">\n",
              "      <th></th>\n",
              "      <th>number_of_reviews</th>\n",
              "      <th>host_name</th>\n",
              "    </tr>\n",
              "    <tr>\n",
              "      <th>host_id</th>\n",
              "      <th></th>\n",
              "      <th></th>\n",
              "    </tr>\n",
              "  </thead>\n",
              "  <tbody>\n",
              "    <tr>\n",
              "      <th>37312959</th>\n",
              "      <td>2273</td>\n",
              "      <td>[Maya]</td>\n",
              "    </tr>\n",
              "    <tr>\n",
              "      <th>344035</th>\n",
              "      <td>2205</td>\n",
              "      <td>[Brooklyn&amp;   Breakfast    -Len-]</td>\n",
              "    </tr>\n",
              "    <tr>\n",
              "      <th>26432133</th>\n",
              "      <td>2017</td>\n",
              "      <td>[Danielle]</td>\n",
              "    </tr>\n",
              "    <tr>\n",
              "      <th>35524316</th>\n",
              "      <td>1971</td>\n",
              "      <td>[Yasu &amp; Akiko]</td>\n",
              "    </tr>\n",
              "    <tr>\n",
              "      <th>40176101</th>\n",
              "      <td>1818</td>\n",
              "      <td>[Brady]</td>\n",
              "    </tr>\n",
              "    <tr>\n",
              "      <th>4734398</th>\n",
              "      <td>1798</td>\n",
              "      <td>[Jj]</td>\n",
              "    </tr>\n",
              "    <tr>\n",
              "      <th>16677326</th>\n",
              "      <td>1355</td>\n",
              "      <td>[Alex And Zeena]</td>\n",
              "    </tr>\n",
              "    <tr>\n",
              "      <th>6885157</th>\n",
              "      <td>1346</td>\n",
              "      <td>[Randy]</td>\n",
              "    </tr>\n",
              "    <tr>\n",
              "      <th>219517861</th>\n",
              "      <td>1281</td>\n",
              "      <td>[Sonder (NYC)]</td>\n",
              "    </tr>\n",
              "    <tr>\n",
              "      <th>23591164</th>\n",
              "      <td>1269</td>\n",
              "      <td>[Angela]</td>\n",
              "    </tr>\n",
              "    <tr>\n",
              "      <th>59529529</th>\n",
              "      <td>1229</td>\n",
              "      <td>[Han]</td>\n",
              "    </tr>\n",
              "    <tr>\n",
              "      <th>47621202</th>\n",
              "      <td>1205</td>\n",
              "      <td>[Dona]</td>\n",
              "    </tr>\n",
              "    <tr>\n",
              "      <th>22959695</th>\n",
              "      <td>1157</td>\n",
              "      <td>[Gurpreet  Singh]</td>\n",
              "    </tr>\n",
              "    <tr>\n",
              "      <th>58391491</th>\n",
              "      <td>1154</td>\n",
              "      <td>[Juel]</td>\n",
              "    </tr>\n",
              "    <tr>\n",
              "      <th>21641206</th>\n",
              "      <td>1062</td>\n",
              "      <td>[Veronica]</td>\n",
              "    </tr>\n",
              "    <tr>\n",
              "      <th>137814</th>\n",
              "      <td>1059</td>\n",
              "      <td>[Waldemar]</td>\n",
              "    </tr>\n",
              "    <tr>\n",
              "      <th>156948703</th>\n",
              "      <td>1052</td>\n",
              "      <td>[Asad]</td>\n",
              "    </tr>\n",
              "    <tr>\n",
              "      <th>156684502</th>\n",
              "      <td>1046</td>\n",
              "      <td>[Nalicia]</td>\n",
              "    </tr>\n",
              "    <tr>\n",
              "      <th>3441272</th>\n",
              "      <td>1013</td>\n",
              "      <td>[Jasmin]</td>\n",
              "    </tr>\n",
              "    <tr>\n",
              "      <th>7831209</th>\n",
              "      <td>970</td>\n",
              "      <td>[Bobi]</td>\n",
              "    </tr>\n",
              "  </tbody>\n",
              "</table>\n",
              "</div>"
            ],
            "text/plain": [
              "           number_of_reviews                         host_name\n",
              "host_id                                                       \n",
              "37312959                2273                            [Maya]\n",
              "344035                  2205  [Brooklyn&   Breakfast    -Len-]\n",
              "26432133                2017                        [Danielle]\n",
              "35524316                1971                    [Yasu & Akiko]\n",
              "40176101                1818                           [Brady]\n",
              "4734398                 1798                              [Jj]\n",
              "16677326                1355                  [Alex And Zeena]\n",
              "6885157                 1346                           [Randy]\n",
              "219517861               1281                    [Sonder (NYC)]\n",
              "23591164                1269                          [Angela]\n",
              "59529529                1229                             [Han]\n",
              "47621202                1205                            [Dona]\n",
              "22959695                1157                 [Gurpreet  Singh]\n",
              "58391491                1154                            [Juel]\n",
              "21641206                1062                        [Veronica]\n",
              "137814                  1059                        [Waldemar]\n",
              "156948703               1052                            [Asad]\n",
              "156684502               1046                         [Nalicia]\n",
              "3441272                 1013                          [Jasmin]\n",
              "7831209                  970                            [Bobi]"
            ]
          },
          "metadata": {
            "tags": []
          },
          "execution_count": 15
        }
      ]
    },
    {
      "cell_type": "code",
      "metadata": {
        "colab": {
          "base_uri": "https://localhost:8080/",
          "height": 368
        },
        "id": "rJSFPAyVIO7i",
        "outputId": "903a6673-2f5c-43c9-c9f3-3e5546a25ced"
      },
      "source": [
        "merged_busy_host_df.plot(kind='bar')\n",
        "\n",
        "plt.title(\"top 20 busiest hosts according to the number of reviews\")\n",
        "plt.ylabel('total number of reviews')\n",
        "plt.xlabel('host id')\n",
        "plt.rcParams['figure.figsize'] = (10, 5)\n",
        "plt.xticks(rotation=45)"
      ],
      "execution_count": null,
      "outputs": [
        {
          "output_type": "execute_result",
          "data": {
            "text/plain": [
              "(array([ 0,  1,  2,  3,  4,  5,  6,  7,  8,  9, 10, 11, 12, 13, 14, 15, 16,\n",
              "        17, 18, 19]), <a list of 20 Text major ticklabel objects>)"
            ]
          },
          "metadata": {
            "tags": []
          },
          "execution_count": 16
        },
        {
          "output_type": "display_data",
          "data": {
            "image/png": "[encoded data removed]",
            "text/plain": [
              "<Figure size 432x288 with 1 Axes>"
            ]
          },
          "metadata": {
            "tags": [],
            "needs_background": "light"
          }
        }
      ]
    },
    {
      "cell_type": "code",
      "metadata": {
        "colab": {
          "base_uri": "https://localhost:8080/",
          "height": 423
        },
        "id": "eZ0o36Biqi-F",
        "outputId": "7805d9b8-abf7-484e-b39e-a0fbc78843a2"
      },
      "source": [
        "host_id_and_price = df.groupby('host_id')['price'].mean().sort_values(ascending=True).reset_index()\n",
        "host_id_and_price"
      ],
      "execution_count": null,
      "outputs": [
        {
          "output_type": "execute_result",
          "data": {
            "text/html": [
              "<div>\n",
              "<style scoped>\n",
              "    .dataframe tbody tr th:only-of-type {\n",
              "        vertical-align: middle;\n",
              "    }\n",
              "\n",
              "    .dataframe tbody tr th {\n",
              "        vertical-align: top;\n",
              "    }\n",
              "\n",
              "    .dataframe thead th {\n",
              "        text-align: right;\n",
              "    }\n",
              "</style>\n",
              "<table border=\"1\" class=\"dataframe\">\n",
              "  <thead>\n",
              "    <tr style=\"text-align: right;\">\n",
              "      <th></th>\n",
              "      <th>host_id</th>\n",
              "      <th>price</th>\n",
              "    </tr>\n",
              "  </thead>\n",
              "  <tbody>\n",
              "    <tr>\n",
              "      <th>0</th>\n",
              "      <td>10132166</td>\n",
              "      <td>0.0</td>\n",
              "    </tr>\n",
              "    <tr>\n",
              "      <th>1</th>\n",
              "      <td>13709292</td>\n",
              "      <td>0.0</td>\n",
              "    </tr>\n",
              "    <tr>\n",
              "      <th>2</th>\n",
              "      <td>197169969</td>\n",
              "      <td>10.0</td>\n",
              "    </tr>\n",
              "    <tr>\n",
              "      <th>3</th>\n",
              "      <td>33511962</td>\n",
              "      <td>10.0</td>\n",
              "    </tr>\n",
              "    <tr>\n",
              "      <th>4</th>\n",
              "      <td>47336995</td>\n",
              "      <td>10.0</td>\n",
              "    </tr>\n",
              "    <tr>\n",
              "      <th>...</th>\n",
              "      <td>...</td>\n",
              "      <td>...</td>\n",
              "    </tr>\n",
              "    <tr>\n",
              "      <th>37452</th>\n",
              "      <td>1235070</td>\n",
              "      <td>9999.0</td>\n",
              "    </tr>\n",
              "    <tr>\n",
              "      <th>37453</th>\n",
              "      <td>4382127</td>\n",
              "      <td>9999.0</td>\n",
              "    </tr>\n",
              "    <tr>\n",
              "      <th>37454</th>\n",
              "      <td>5143901</td>\n",
              "      <td>10000.0</td>\n",
              "    </tr>\n",
              "    <tr>\n",
              "      <th>37455</th>\n",
              "      <td>72390391</td>\n",
              "      <td>10000.0</td>\n",
              "    </tr>\n",
              "    <tr>\n",
              "      <th>37456</th>\n",
              "      <td>20582832</td>\n",
              "      <td>10000.0</td>\n",
              "    </tr>\n",
              "  </tbody>\n",
              "</table>\n",
              "<p>37457 rows × 2 columns</p>\n",
              "</div>"
            ],
            "text/plain": [
              "         host_id    price\n",
              "0       10132166      0.0\n",
              "1       13709292      0.0\n",
              "2      197169969     10.0\n",
              "3       33511962     10.0\n",
              "4       47336995     10.0\n",
              "...          ...      ...\n",
              "37452    1235070   9999.0\n",
              "37453    4382127   9999.0\n",
              "37454    5143901  10000.0\n",
              "37455   72390391  10000.0\n",
              "37456   20582832  10000.0\n",
              "\n",
              "[37457 rows x 2 columns]"
            ]
          },
          "metadata": {
            "tags": []
          },
          "execution_count": 17
        }
      ]
    },
    {
      "cell_type": "code",
      "metadata": {
        "colab": {
          "base_uri": "https://localhost:8080/"
        },
        "id": "N1s1mRZFsqpJ",
        "outputId": "0af85008-45a4-43d0-d035-7fb94ad8202b"
      },
      "source": [
        "df.columns"
      ],
      "execution_count": null,
      "outputs": [
        {
          "output_type": "execute_result",
          "data": {
            "text/plain": [
              "Index(['id', 'name', 'host_id', 'host_name', 'neighbourhood_group',\n",
              "       'neighbourhood', 'latitude', 'longitude', 'room_type', 'price',\n",
              "       'minimum_nights', 'number_of_reviews', 'last_review',\n",
              "       'reviews_per_month', 'calculated_host_listings_count',\n",
              "       'availability_365'],\n",
              "      dtype='object')"
            ]
          },
          "metadata": {
            "tags": []
          },
          "execution_count": 18
        }
      ]
    },
    {
      "cell_type": "code",
      "metadata": {
        "colab": {
          "base_uri": "https://localhost:8080/",
          "height": 415
        },
        "id": "EXDpAXo_tLaZ",
        "outputId": "eaf21590-52ed-4d03-f6f9-4999e633d5b2"
      },
      "source": [
        "df_based_on_reviews = df['number_of_reviews'].value_counts().reset_index()\n",
        "df_based_on_reviews \n"
      ],
      "execution_count": null,
      "outputs": [
        {
          "output_type": "execute_result",
          "data": {
            "text/html": [
              "<div>\n",
              "<style scoped>\n",
              "    .dataframe tbody tr th:only-of-type {\n",
              "        vertical-align: middle;\n",
              "    }\n",
              "\n",
              "    .dataframe tbody tr th {\n",
              "        vertical-align: top;\n",
              "    }\n",
              "\n",
              "    .dataframe thead th {\n",
              "        text-align: right;\n",
              "    }\n",
              "</style>\n",
              "<table border=\"1\" class=\"dataframe\">\n",
              "  <thead>\n",
              "    <tr style=\"text-align: right;\">\n",
              "      <th></th>\n",
              "      <th>index</th>\n",
              "      <th>number_of_reviews</th>\n",
              "    </tr>\n",
              "  </thead>\n",
              "  <tbody>\n",
              "    <tr>\n",
              "      <th>0</th>\n",
              "      <td>0</td>\n",
              "      <td>10052</td>\n",
              "    </tr>\n",
              "    <tr>\n",
              "      <th>1</th>\n",
              "      <td>1</td>\n",
              "      <td>5244</td>\n",
              "    </tr>\n",
              "    <tr>\n",
              "      <th>2</th>\n",
              "      <td>2</td>\n",
              "      <td>3465</td>\n",
              "    </tr>\n",
              "    <tr>\n",
              "      <th>3</th>\n",
              "      <td>3</td>\n",
              "      <td>2520</td>\n",
              "    </tr>\n",
              "    <tr>\n",
              "      <th>4</th>\n",
              "      <td>4</td>\n",
              "      <td>1994</td>\n",
              "    </tr>\n",
              "    <tr>\n",
              "      <th>...</th>\n",
              "      <td>...</td>\n",
              "      <td>...</td>\n",
              "    </tr>\n",
              "    <tr>\n",
              "      <th>389</th>\n",
              "      <td>404</td>\n",
              "      <td>1</td>\n",
              "    </tr>\n",
              "    <tr>\n",
              "      <th>390</th>\n",
              "      <td>436</td>\n",
              "      <td>1</td>\n",
              "    </tr>\n",
              "    <tr>\n",
              "      <th>391</th>\n",
              "      <td>388</td>\n",
              "      <td>1</td>\n",
              "    </tr>\n",
              "    <tr>\n",
              "      <th>392</th>\n",
              "      <td>341</td>\n",
              "      <td>1</td>\n",
              "    </tr>\n",
              "    <tr>\n",
              "      <th>393</th>\n",
              "      <td>607</td>\n",
              "      <td>1</td>\n",
              "    </tr>\n",
              "  </tbody>\n",
              "</table>\n",
              "<p>394 rows × 2 columns</p>\n",
              "</div>"
            ],
            "text/plain": [
              "     index  number_of_reviews\n",
              "0        0              10052\n",
              "1        1               5244\n",
              "2        2               3465\n",
              "3        3               2520\n",
              "4        4               1994\n",
              "..     ...                ...\n",
              "389    404                  1\n",
              "390    436                  1\n",
              "391    388                  1\n",
              "392    341                  1\n",
              "393    607                  1\n",
              "\n",
              "[394 rows x 2 columns]"
            ]
          },
          "metadata": {
            "tags": []
          },
          "execution_count": 6
        }
      ]
    },
    {
      "cell_type": "code",
      "metadata": {
        "colab": {
          "base_uri": "https://localhost:8080/",
          "height": 237
        },
        "id": "3VDe63GDt_FT",
        "outputId": "266f1b9a-c887-4937-fbdc-c9e3cb6b8b46"
      },
      "source": [
        "# to know host id and number of reviews:\n",
        "reviews_df=df.groupby('host_id')['number_of_reviews'].count().sort_values(ascending=False).reset_index().iloc[0:5]\n",
        "reviews_df=reviews_df.set_index('host_id')\n",
        "reviews_df"
      ],
      "execution_count": null,
      "outputs": [
        {
          "output_type": "execute_result",
          "data": {
            "text/html": [
              "<div>\n",
              "<style scoped>\n",
              "    .dataframe tbody tr th:only-of-type {\n",
              "        vertical-align: middle;\n",
              "    }\n",
              "\n",
              "    .dataframe tbody tr th {\n",
              "        vertical-align: top;\n",
              "    }\n",
              "\n",
              "    .dataframe thead th {\n",
              "        text-align: right;\n",
              "    }\n",
              "</style>\n",
              "<table border=\"1\" class=\"dataframe\">\n",
              "  <thead>\n",
              "    <tr style=\"text-align: right;\">\n",
              "      <th></th>\n",
              "      <th>number_of_reviews</th>\n",
              "    </tr>\n",
              "    <tr>\n",
              "      <th>host_id</th>\n",
              "      <th></th>\n",
              "    </tr>\n",
              "  </thead>\n",
              "  <tbody>\n",
              "    <tr>\n",
              "      <th>219517861</th>\n",
              "      <td>327</td>\n",
              "    </tr>\n",
              "    <tr>\n",
              "      <th>107434423</th>\n",
              "      <td>232</td>\n",
              "    </tr>\n",
              "    <tr>\n",
              "      <th>30283594</th>\n",
              "      <td>121</td>\n",
              "    </tr>\n",
              "    <tr>\n",
              "      <th>137358866</th>\n",
              "      <td>103</td>\n",
              "    </tr>\n",
              "    <tr>\n",
              "      <th>16098958</th>\n",
              "      <td>96</td>\n",
              "    </tr>\n",
              "  </tbody>\n",
              "</table>\n",
              "</div>"
            ],
            "text/plain": [
              "           number_of_reviews\n",
              "host_id                     \n",
              "219517861                327\n",
              "107434423                232\n",
              "30283594                 121\n",
              "137358866                103\n",
              "16098958                  96"
            ]
          },
          "metadata": {
            "tags": []
          },
          "execution_count": 20
        }
      ]
    },
    {
      "cell_type": "code",
      "metadata": {
        "colab": {
          "base_uri": "https://localhost:8080/",
          "height": 415
        },
        "id": "ac46wcYRqRRK",
        "outputId": "a89bec0f-9478-49cf-911d-7aed30253faa"
      },
      "source": [
        "reviews_df.plot(kind='bar')\n",
        "\n",
        "plt.title(\"Based on number of reviews\")\n",
        "plt.xlabel('host_id')\n",
        "plt.ylabel('number_of_reviews')\n",
        "#plt.rcParams['figure.figsize'] = (10, 5)"
      ],
      "execution_count": null,
      "outputs": [
        {
          "output_type": "execute_result",
          "data": {
            "text/plain": [
              "Text(0, 0.5, 'number_of_reviews')"
            ]
          },
          "metadata": {
            "tags": []
          },
          "execution_count": 21
        },
        {
          "output_type": "display_data",
          "data": {
            "image/png": "[encoded data removed]",
            "text/plain": [
              "<Figure size 720x360 with 1 Axes>"
            ]
          },
          "metadata": {
            "tags": [],
            "needs_background": "light"
          }
        }
      ]
    },
    {
      "cell_type": "code",
      "metadata": {
        "id": "VqZE5rgBtk_N"
      },
      "source": [
        "#taking top 5 enteries based on reviews per month and host id:\n",
        "reviews_per_month_df=df.groupby(by='host_id')['reviews_per_month'].sum().sort_values(ascending=False).reset_index().iloc[0:5]\n",
        "reviews_per_month_df.set_index('host_id',inplace=True)"
      ],
      "execution_count": null,
      "outputs": []
    },
    {
      "cell_type": "code",
      "metadata": {
        "colab": {
          "base_uri": "https://localhost:8080/",
          "height": 415
        },
        "id": "w84hi6IrwrQE",
        "outputId": "ee8880dd-63db-497f-fd70-0c83731e1fe4"
      },
      "source": [
        "reviews_df.plot(kind='bar')\n",
        "\n",
        "plt.title(\"based on reviews per month,use of airbnb\")\n",
        "plt.xlabel('host_id')\n",
        "plt.ylabel('reviews_per_month')\n",
        "#plt.rcParams['figure.figsize'] = (10, 5)"
      ],
      "execution_count": null,
      "outputs": [
        {
          "output_type": "execute_result",
          "data": {
            "text/plain": [
              "Text(0, 0.5, 'reviews_per_month')"
            ]
          },
          "metadata": {
            "tags": []
          },
          "execution_count": 23
        },
        {
          "output_type": "display_data",
          "data": {
            "image/png": "[encoded data removed]",
            "text/plain": [
              "<Figure size 720x360 with 1 Axes>"
            ]
          },
          "metadata": {
            "tags": [],
            "needs_background": "light"
          }
        }
      ]
    },
    {
      "cell_type": "code",
      "metadata": {
        "colab": {
          "base_uri": "https://localhost:8080/",
          "height": 707
        },
        "id": "e31OxsV0O5EG",
        "outputId": "79f32afd-1b1c-4bd9-f534-56c551f54dff"
      },
      "source": [
        "# to know maximum number listings of a host\n",
        "prop_count_df=df.groupby('host_id')['name'].count().sort_values(ascending=False).head(20)\n",
        "name_df=df.groupby('host_id')['host_name'].unique().reset_index()\n",
        "\n",
        "# Merging the two dataframes using left join\n",
        "merged_prop_count_host_df = pd.merge(prop_count_df,name_df, on='host_id', how='inner').iloc[:20].set_index('host_id')\n",
        "merged_prop_count_host_df"
      ],
      "execution_count": null,
      "outputs": [
        {
          "output_type": "execute_result",
          "data": {
            "text/html": [
              "<div>\n",
              "<style scoped>\n",
              "    .dataframe tbody tr th:only-of-type {\n",
              "        vertical-align: middle;\n",
              "    }\n",
              "\n",
              "    .dataframe tbody tr th {\n",
              "        vertical-align: top;\n",
              "    }\n",
              "\n",
              "    .dataframe thead th {\n",
              "        text-align: right;\n",
              "    }\n",
              "</style>\n",
              "<table border=\"1\" class=\"dataframe\">\n",
              "  <thead>\n",
              "    <tr style=\"text-align: right;\">\n",
              "      <th></th>\n",
              "      <th>name</th>\n",
              "      <th>host_name</th>\n",
              "    </tr>\n",
              "    <tr>\n",
              "      <th>host_id</th>\n",
              "      <th></th>\n",
              "      <th></th>\n",
              "    </tr>\n",
              "  </thead>\n",
              "  <tbody>\n",
              "    <tr>\n",
              "      <th>219517861</th>\n",
              "      <td>327</td>\n",
              "      <td>[Sonder (NYC)]</td>\n",
              "    </tr>\n",
              "    <tr>\n",
              "      <th>107434423</th>\n",
              "      <td>232</td>\n",
              "      <td>[Blueground]</td>\n",
              "    </tr>\n",
              "    <tr>\n",
              "      <th>30283594</th>\n",
              "      <td>121</td>\n",
              "      <td>[Kara]</td>\n",
              "    </tr>\n",
              "    <tr>\n",
              "      <th>137358866</th>\n",
              "      <td>103</td>\n",
              "      <td>[Kazuya]</td>\n",
              "    </tr>\n",
              "    <tr>\n",
              "      <th>16098958</th>\n",
              "      <td>96</td>\n",
              "      <td>[Jeremy &amp; Laura]</td>\n",
              "    </tr>\n",
              "    <tr>\n",
              "      <th>12243051</th>\n",
              "      <td>96</td>\n",
              "      <td>[Sonder]</td>\n",
              "    </tr>\n",
              "    <tr>\n",
              "      <th>61391963</th>\n",
              "      <td>91</td>\n",
              "      <td>[Corporate Housing]</td>\n",
              "    </tr>\n",
              "    <tr>\n",
              "      <th>22541573</th>\n",
              "      <td>87</td>\n",
              "      <td>[Ken]</td>\n",
              "    </tr>\n",
              "    <tr>\n",
              "      <th>200380610</th>\n",
              "      <td>65</td>\n",
              "      <td>[Pranjal]</td>\n",
              "    </tr>\n",
              "    <tr>\n",
              "      <th>7503643</th>\n",
              "      <td>52</td>\n",
              "      <td>[Vida]</td>\n",
              "    </tr>\n",
              "    <tr>\n",
              "      <th>1475015</th>\n",
              "      <td>52</td>\n",
              "      <td>[Mike]</td>\n",
              "    </tr>\n",
              "    <tr>\n",
              "      <th>120762452</th>\n",
              "      <td>50</td>\n",
              "      <td>[Stanley]</td>\n",
              "    </tr>\n",
              "    <tr>\n",
              "      <th>2856748</th>\n",
              "      <td>49</td>\n",
              "      <td>[Ruchi]</td>\n",
              "    </tr>\n",
              "    <tr>\n",
              "      <th>205031545</th>\n",
              "      <td>49</td>\n",
              "      <td>[Red Awning]</td>\n",
              "    </tr>\n",
              "    <tr>\n",
              "      <th>190921808</th>\n",
              "      <td>47</td>\n",
              "      <td>[John]</td>\n",
              "    </tr>\n",
              "    <tr>\n",
              "      <th>26377263</th>\n",
              "      <td>43</td>\n",
              "      <td>[Stat]</td>\n",
              "    </tr>\n",
              "    <tr>\n",
              "      <th>2119276</th>\n",
              "      <td>39</td>\n",
              "      <td>[Host]</td>\n",
              "    </tr>\n",
              "    <tr>\n",
              "      <th>19303369</th>\n",
              "      <td>37</td>\n",
              "      <td>[Hiroki]</td>\n",
              "    </tr>\n",
              "    <tr>\n",
              "      <th>25237492</th>\n",
              "      <td>34</td>\n",
              "      <td>[Juliana]</td>\n",
              "    </tr>\n",
              "    <tr>\n",
              "      <th>119669058</th>\n",
              "      <td>34</td>\n",
              "      <td>[Melissa]</td>\n",
              "    </tr>\n",
              "  </tbody>\n",
              "</table>\n",
              "</div>"
            ],
            "text/plain": [
              "           name            host_name\n",
              "host_id                             \n",
              "219517861   327       [Sonder (NYC)]\n",
              "107434423   232         [Blueground]\n",
              "30283594    121               [Kara]\n",
              "137358866   103             [Kazuya]\n",
              "16098958     96     [Jeremy & Laura]\n",
              "12243051     96             [Sonder]\n",
              "61391963     91  [Corporate Housing]\n",
              "22541573     87                [Ken]\n",
              "200380610    65            [Pranjal]\n",
              "7503643      52               [Vida]\n",
              "1475015      52               [Mike]\n",
              "120762452    50            [Stanley]\n",
              "2856748      49              [Ruchi]\n",
              "205031545    49         [Red Awning]\n",
              "190921808    47               [John]\n",
              "26377263     43               [Stat]\n",
              "2119276      39               [Host]\n",
              "19303369     37             [Hiroki]\n",
              "25237492     34            [Juliana]\n",
              "119669058    34            [Melissa]"
            ]
          },
          "metadata": {
            "tags": []
          },
          "execution_count": 24
        }
      ]
    },
    {
      "cell_type": "code",
      "metadata": {
        "id": "--sNOTWoPC6l",
        "colab": {
          "base_uri": "https://localhost:8080/",
          "height": 422
        },
        "outputId": "db5293bf-c6b9-493e-8eb9-57926bb1c22f"
      },
      "source": [
        "merged_prop_count_host_df.plot(kind='bar')\n",
        "\n",
        "plt.title(\"top 20 host which has maximum number of listing in airbnb\")\n",
        "plt.ylabel('property count')\n",
        "plt.xlabel('host id')\n",
        "plt.rcParams['figure.figsize'] = (10, 5)\n",
        "plt.xticks(rotation=45)"
      ],
      "execution_count": null,
      "outputs": [
        {
          "output_type": "execute_result",
          "data": {
            "text/plain": [
              "(array([ 0,  1,  2,  3,  4,  5,  6,  7,  8,  9, 10, 11, 12, 13, 14, 15, 16,\n",
              "        17, 18, 19]), <a list of 20 Text major ticklabel objects>)"
            ]
          },
          "metadata": {
            "tags": []
          },
          "execution_count": 25
        },
        {
          "output_type": "display_data",
          "data": {
            "image/png": "[encoded data removed]",
            "text/plain": [
              "<Figure size 720x360 with 1 Axes>"
            ]
          },
          "metadata": {
            "tags": [],
            "needs_background": "light"
          }
        }
      ]
    },
    {
      "cell_type": "markdown",
      "metadata": {
        "id": "hesdeP3oq4M5"
      },
      "source": [
        "We can see that from two graphs,number of views and reviews per month that host id = 219517861 is busiest because he has reviews per month and number of reviews maximum, that means he keeps his platform activated in terms of social media and he has more properties than other hosts."
      ]
    },
    {
      "cell_type": "code",
      "metadata": {
        "colab": {
          "base_uri": "https://localhost:8080/"
        },
        "id": "z-tim81_42sK",
        "outputId": "d38fffe4-cd15-4855-ff05-706f72409b32"
      },
      "source": [
        "df.columns"
      ],
      "execution_count": null,
      "outputs": [
        {
          "output_type": "execute_result",
          "data": {
            "text/plain": [
              "Index(['id', 'name', 'host_id', 'neighbourhood_group', 'neighbourhood',\n",
              "       'latitude', 'longitude', 'room_type', 'price', 'minimum_nights',\n",
              "       'number_of_reviews', 'last_review', 'reviews_per_month',\n",
              "       'calculated_host_listings_count', 'availability_365'],\n",
              "      dtype='object')"
            ]
          },
          "metadata": {
            "tags": []
          },
          "execution_count": 55
        }
      ]
    }
  ]
}